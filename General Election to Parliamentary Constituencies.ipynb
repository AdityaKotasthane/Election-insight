{
 "cells": [
  {
   "cell_type": "code",
   "execution_count": 27,
   "id": "c346fcb3-34f9-425b-b3f5-b8b35661cc0d",
   "metadata": {},
   "outputs": [],
   "source": [
    "import requests\n",
    "from bs4 import BeautifulSoup\n",
    "import pandas as pd"
   ]
  },
  {
   "cell_type": "code",
   "execution_count": 33,
   "id": "168023fd-279d-461b-9798-7fc486f7e0bc",
   "metadata": {},
   "outputs": [],
   "source": [
    "def scrape_party_wise_results(url):\n",
    "    response = requests.get(url)\n",
    "    soup = BeautifulSoup(response.content, 'html.parser')\n",
    "    table = soup.find('table', {'class': 'table'})\n",
    "    \n",
    "    # Extract headers\n",
    "    headers = [header.text.strip() for header in table.find_all('th')]\n",
    "    \n",
    "    # Extract rows\n",
    "    data = []\n",
    "    for row in table.find_all('tr'):\n",
    "        cols = row.find_all('td')\n",
    "        cols = [ele.text.strip() for ele in cols]\n",
    "        if cols:  # Only add rows with data\n",
    "            data.append(cols)\n",
    "    \n",
    "    # Ensure the number of columns match the headers\n",
    "    max_cols = max(len(row) for row in data)\n",
    "    if len(headers) != max_cols:\n",
    "        headers = headers[:max_cols]\n",
    "    \n",
    "    df = pd.DataFrame(data, columns=headers)\n",
    "    return df"
   ]
  },
  {
   "cell_type": "code",
   "execution_count": 35,
   "id": "16264a3f-a524-4059-8d68-4a9adb9462f8",
   "metadata": {},
   "outputs": [
    {
     "data": {
      "text/html": [
       "<div>\n",
       "<style scoped>\n",
       "    .dataframe tbody tr th:only-of-type {\n",
       "        vertical-align: middle;\n",
       "    }\n",
       "\n",
       "    .dataframe tbody tr th {\n",
       "        vertical-align: top;\n",
       "    }\n",
       "\n",
       "    .dataframe thead th {\n",
       "        text-align: right;\n",
       "    }\n",
       "</style>\n",
       "<table border=\"1\" class=\"dataframe\">\n",
       "  <thead>\n",
       "    <tr style=\"text-align: right;\">\n",
       "      <th></th>\n",
       "      <th>Party</th>\n",
       "      <th>Won</th>\n",
       "      <th>Leading</th>\n",
       "      <th>Total</th>\n",
       "    </tr>\n",
       "  </thead>\n",
       "  <tbody>\n",
       "    <tr>\n",
       "      <th>0</th>\n",
       "      <td>Bharatiya Janata Party - BJP</td>\n",
       "      <td>240</td>\n",
       "      <td>0</td>\n",
       "      <td>240</td>\n",
       "    </tr>\n",
       "    <tr>\n",
       "      <th>1</th>\n",
       "      <td>Indian National Congress - INC</td>\n",
       "      <td>99</td>\n",
       "      <td>0</td>\n",
       "      <td>99</td>\n",
       "    </tr>\n",
       "    <tr>\n",
       "      <th>2</th>\n",
       "      <td>Samajwadi Party - SP</td>\n",
       "      <td>37</td>\n",
       "      <td>0</td>\n",
       "      <td>37</td>\n",
       "    </tr>\n",
       "    <tr>\n",
       "      <th>3</th>\n",
       "      <td>All India Trinamool Congress - AITC</td>\n",
       "      <td>29</td>\n",
       "      <td>0</td>\n",
       "      <td>29</td>\n",
       "    </tr>\n",
       "    <tr>\n",
       "      <th>4</th>\n",
       "      <td>Dravida Munnetra Kazhagam - DMK</td>\n",
       "      <td>22</td>\n",
       "      <td>0</td>\n",
       "      <td>22</td>\n",
       "    </tr>\n",
       "  </tbody>\n",
       "</table>\n",
       "</div>"
      ],
      "text/plain": [
       "                                 Party  Won Leading Total\n",
       "0         Bharatiya Janata Party - BJP  240       0   240\n",
       "1       Indian National Congress - INC   99       0    99\n",
       "2                 Samajwadi Party - SP   37       0    37\n",
       "3  All India Trinamool Congress - AITC   29       0    29\n",
       "4      Dravida Munnetra Kazhagam - DMK   22       0    22"
      ]
     },
     "execution_count": 35,
     "metadata": {},
     "output_type": "execute_result"
    }
   ],
   "source": [
    "main_url = \"https://results.eci.gov.in/PcResultGenJune2024/index.htm\"\n",
    "\n",
    "# Scrape main party-wise results\n",
    "main_df = scrape_party_wise_results(main_url)\n",
    "main_df.to_csv('main_party_wise_results.csv', index=False)\n",
    "main_df.head()"
   ]
  },
  {
   "cell_type": "code",
   "execution_count": null,
   "id": "1a716b86-43ff-4083-bdc0-fcaccba046e4",
   "metadata": {},
   "outputs": [],
   "source": []
  }
 ],
 "metadata": {
  "kernelspec": {
   "display_name": "Python 3 (ipykernel)",
   "language": "python",
   "name": "python3"
  },
  "language_info": {
   "codemirror_mode": {
    "name": "ipython",
    "version": 3
   },
   "file_extension": ".py",
   "mimetype": "text/x-python",
   "name": "python",
   "nbconvert_exporter": "python",
   "pygments_lexer": "ipython3",
   "version": "3.12.4"
  }
 },
 "nbformat": 4,
 "nbformat_minor": 5
}
